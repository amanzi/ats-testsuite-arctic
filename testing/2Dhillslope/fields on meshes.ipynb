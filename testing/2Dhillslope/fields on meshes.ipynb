{
 "cells": [
  {
   "cell_type": "code",
   "execution_count": 172,
   "metadata": {},
   "outputs": [
    {
     "name": "stdout",
     "output_type": "stream",
     "text": [
      "Using matplotlib backend: Qt5Agg\n"
     ]
    }
   ],
   "source": [
    "import os,sys\n",
    "sys.path.append(\"S:/mo8557/ats/repos/ats-dev/tools/utils\")\n",
    "\n",
    "import matplotlib\n",
    "%matplotlib\n",
    "\n",
    "#print(sys.path)\n",
    "\n",
    "import numpy as np\n",
    "from matplotlib import pyplot as plt\n",
    "import h5py\n",
    "\n",
    "import parse_ats \n",
    "import transect_data\n",
    "import mesh\n",
    "\n",
    "# Can't be a mesh where the test has been cut off in the middle\n",
    "mesh_dir=\"./test7/run21_19Feb18_Static_Parameters\"\n",
    "\n"
   ]
  },
  {
   "cell_type": "code",
   "execution_count": 173,
   "metadata": {
    "collapsed": true
   },
   "outputs": [],
   "source": [
    "# run something on your mesh\n",
    "#\n",
    "# - must be the same mesh\n",
    "# - must be the same partitioning\n",
    "#  (mpiexec -n YY meshconvert --partition --partition-method=2 --classify ...)\n",
    "# - must be the same stratigraphy"
   ]
  },
  {
   "cell_type": "code",
   "execution_count": 174,
   "metadata": {},
   "outputs": [
    {
     "name": "stdout",
     "output_type": "stream",
     "text": [
      "[[  5.00000000e+00   5.00000000e-01   4.00900000e+01]\n",
      " [  5.00000000e+00   5.00000000e-01   4.00700000e+01]\n",
      " [  5.00000000e+00   5.00000000e-01   4.00500000e+01]\n",
      " ..., \n",
      " [  5.95000000e+02   5.00000000e-01   6.84841358e+01]\n",
      " [  5.95000000e+02   5.00000000e-01   5.95404167e+01]\n",
      " [  5.95000000e+02   5.00000000e-01   5.15134722e+01]]\n"
     ]
    }
   ],
   "source": [
    "xyz = mesh.meshElemCentroids(directory=mesh_dir)\n",
    "# Calls an ats utility called 'meshElemCentroids' (in ./tools/utils), which finds the centroid of\n",
    "# elements in an already created mesh.  The utility calls mesh name 'visdump_mesh.h5', which is the \n",
    "# the default name for a mesh output created by ATS.  Specify its location in the directory\n",
    "\n",
    "print xyz\n"
   ]
  },
  {
   "cell_type": "code",
   "execution_count": 175,
   "metadata": {},
   "outputs": [
    {
     "name": "stdout",
     "output_type": "stream",
     "text": [
      "[  5.     0.5   40.09]\n",
      "[  5.     0.5   40.07]\n"
     ]
    }
   ],
   "source": [
    "# 3100 cells by 3 dimensions (x,y,z)\n",
    "xyz.shape\n",
    "print xyz[0,:]\n",
    "print xyz[1,:]"
   ]
  },
  {
   "cell_type": "code",
   "execution_count": 166,
   "metadata": {},
   "outputs": [
    {
     "ename": "IOError",
     "evalue": "Can't read data (File read failed: time = mon feb 19 17:49:27 2018\n, filename = './test7/run21_19feb18_static_parameters\\visdump_data.h5', file descriptor = 5, errno = 22, error message = 'invalid argument', buf = 000000000b1c3888, total read size = 46080, bytes this sub-read = 46080, bytes actually read = 18446744073709551615, offset = 1095456)",
     "output_type": "error",
     "traceback": [
      "\u001b[1;31m\u001b[0m",
      "\u001b[1;31mIOError\u001b[0mTraceback (most recent call last)",
      "\u001b[1;32m<ipython-input-166-22c911590266>\u001b[0m in \u001b[0;36m<module>\u001b[1;34m()\u001b[0m\n\u001b[1;32m----> 1\u001b[1;33m \u001b[0mdat\u001b[0m\u001b[1;33m,\u001b[0m \u001b[0mmap\u001b[0m \u001b[1;33m=\u001b[0m \u001b[0mtransect_data\u001b[0m\u001b[1;33m.\u001b[0m\u001b[0mtransect_data\u001b[0m\u001b[1;33m(\u001b[0m\u001b[1;33m[\u001b[0m\u001b[1;34m\"porosity\"\u001b[0m\u001b[1;33m,\u001b[0m\u001b[1;33m]\u001b[0m\u001b[1;33m,\u001b[0m \u001b[0mkeys\u001b[0m\u001b[1;33m=\u001b[0m\u001b[1;36m0\u001b[0m\u001b[1;33m,\u001b[0m \u001b[0mdirectory\u001b[0m\u001b[1;33m=\u001b[0m\u001b[0mmesh_dir\u001b[0m\u001b[1;33m,\u001b[0m \u001b[0mreturn_map\u001b[0m\u001b[1;33m=\u001b[0m\u001b[0mTrue\u001b[0m\u001b[1;33m)\u001b[0m\u001b[1;33m\u001b[0m\u001b[0m\n\u001b[0m\u001b[0;32m      2\u001b[0m \u001b[0mkeys\u001b[0m\u001b[1;33m,\u001b[0m \u001b[0mtimes\u001b[0m\u001b[1;33m,\u001b[0m \u001b[0mdataset\u001b[0m \u001b[1;33m=\u001b[0m \u001b[0mparse_ats\u001b[0m\u001b[1;33m.\u001b[0m\u001b[0mreadATS\u001b[0m\u001b[1;33m(\u001b[0m\u001b[0mdirectory\u001b[0m\u001b[1;33m=\u001b[0m\u001b[0mmesh_dir\u001b[0m\u001b[1;33m)\u001b[0m\u001b[1;33m\u001b[0m\u001b[0m\n",
      "\u001b[1;32mS:/mo8557/ats/repos/ats-dev/tools/utils\\transect_data.pyc\u001b[0m in \u001b[0;36mtransect_data\u001b[1;34m(varnames, keys, directory, filename, mesh_filename, coord_order, deformable, return_map)\u001b[0m\n\u001b[0;32m    127\u001b[0m             \u001b[0mvals\u001b[0m\u001b[1;33m[\u001b[0m\u001b[1;36m1\u001b[0m\u001b[1;33m,\u001b[0m\u001b[0mi\u001b[0m\u001b[1;33m,\u001b[0m\u001b[1;33m:\u001b[0m\u001b[1;33m]\u001b[0m \u001b[1;33m=\u001b[0m \u001b[0mxyz\u001b[0m\u001b[1;33m[\u001b[0m\u001b[0mxyz_sorting\u001b[0m\u001b[1;33m,\u001b[0m\u001b[0mnum_order\u001b[0m\u001b[1;33m[\u001b[0m\u001b[1;36m1\u001b[0m\u001b[1;33m]\u001b[0m\u001b[1;33m]\u001b[0m\u001b[1;33m\u001b[0m\u001b[0m\n\u001b[0;32m    128\u001b[0m             \u001b[1;32mfor\u001b[0m \u001b[0mj\u001b[0m\u001b[1;33m,\u001b[0m\u001b[0mvarname\u001b[0m \u001b[1;32min\u001b[0m \u001b[0menumerate\u001b[0m\u001b[1;33m(\u001b[0m\u001b[0mvarnames\u001b[0m\u001b[1;33m)\u001b[0m\u001b[1;33m:\u001b[0m\u001b[1;33m\u001b[0m\u001b[0m\n\u001b[1;32m--> 129\u001b[1;33m                 \u001b[0mvals\u001b[0m\u001b[1;33m[\u001b[0m\u001b[0mj\u001b[0m\u001b[1;33m+\u001b[0m\u001b[1;36m2\u001b[0m\u001b[1;33m,\u001b[0m\u001b[0mi\u001b[0m\u001b[1;33m,\u001b[0m\u001b[1;33m:\u001b[0m\u001b[1;33m]\u001b[0m \u001b[1;33m=\u001b[0m \u001b[0mdat\u001b[0m\u001b[1;33m[\u001b[0m\u001b[0mfullname\u001b[0m\u001b[1;33m(\u001b[0m\u001b[0mvarname\u001b[0m\u001b[1;33m)\u001b[0m\u001b[1;33m]\u001b[0m\u001b[1;33m[\u001b[0m\u001b[0mkey\u001b[0m\u001b[1;33m]\u001b[0m\u001b[1;33m[\u001b[0m\u001b[1;33m:\u001b[0m\u001b[1;33m,\u001b[0m\u001b[1;36m0\u001b[0m\u001b[1;33m]\u001b[0m\u001b[1;33m[\u001b[0m\u001b[0mxyz_sorting\u001b[0m\u001b[1;33m]\u001b[0m\u001b[1;33m\u001b[0m\u001b[0m\n\u001b[0m\u001b[0;32m    130\u001b[0m \u001b[1;33m\u001b[0m\u001b[0m\n\u001b[0;32m    131\u001b[0m     \u001b[1;31m# reshape the data\u001b[0m\u001b[1;33m\u001b[0m\u001b[1;33m\u001b[0m\u001b[0m\n",
      "\u001b[1;32mh5py\\_objects.pyx\u001b[0m in \u001b[0;36mh5py._objects.with_phil.wrapper\u001b[1;34m()\u001b[0m\n",
      "\u001b[1;32mh5py\\_objects.pyx\u001b[0m in \u001b[0;36mh5py._objects.with_phil.wrapper\u001b[1;34m()\u001b[0m\n",
      "\u001b[1;32mC:\\Users\\mo8557\\AppData\\Local\\Continuum\\anaconda2\\lib\\site-packages\\h5py\\_hl\\dataset.pyc\u001b[0m in \u001b[0;36m__getitem__\u001b[1;34m(self, args)\u001b[0m\n\u001b[0;32m    492\u001b[0m         \u001b[0mmspace\u001b[0m \u001b[1;33m=\u001b[0m \u001b[0mh5s\u001b[0m\u001b[1;33m.\u001b[0m\u001b[0mcreate_simple\u001b[0m\u001b[1;33m(\u001b[0m\u001b[0mmshape\u001b[0m\u001b[1;33m)\u001b[0m\u001b[1;33m\u001b[0m\u001b[0m\n\u001b[0;32m    493\u001b[0m         \u001b[0mfspace\u001b[0m \u001b[1;33m=\u001b[0m \u001b[0mselection\u001b[0m\u001b[1;33m.\u001b[0m\u001b[0mid\u001b[0m\u001b[1;33m\u001b[0m\u001b[0m\n\u001b[1;32m--> 494\u001b[1;33m         \u001b[0mself\u001b[0m\u001b[1;33m.\u001b[0m\u001b[0mid\u001b[0m\u001b[1;33m.\u001b[0m\u001b[0mread\u001b[0m\u001b[1;33m(\u001b[0m\u001b[0mmspace\u001b[0m\u001b[1;33m,\u001b[0m \u001b[0mfspace\u001b[0m\u001b[1;33m,\u001b[0m \u001b[0marr\u001b[0m\u001b[1;33m,\u001b[0m \u001b[0mmtype\u001b[0m\u001b[1;33m,\u001b[0m \u001b[0mdxpl\u001b[0m\u001b[1;33m=\u001b[0m\u001b[0mself\u001b[0m\u001b[1;33m.\u001b[0m\u001b[0m_dxpl\u001b[0m\u001b[1;33m)\u001b[0m\u001b[1;33m\u001b[0m\u001b[0m\n\u001b[0m\u001b[0;32m    495\u001b[0m \u001b[1;33m\u001b[0m\u001b[0m\n\u001b[0;32m    496\u001b[0m         \u001b[1;31m# Patch up the output for NumPy\u001b[0m\u001b[1;33m\u001b[0m\u001b[1;33m\u001b[0m\u001b[0m\n",
      "\u001b[1;32mh5py\\_objects.pyx\u001b[0m in \u001b[0;36mh5py._objects.with_phil.wrapper\u001b[1;34m()\u001b[0m\n",
      "\u001b[1;32mh5py\\_objects.pyx\u001b[0m in \u001b[0;36mh5py._objects.with_phil.wrapper\u001b[1;34m()\u001b[0m\n",
      "\u001b[1;32mh5py\\h5d.pyx\u001b[0m in \u001b[0;36mh5py.h5d.DatasetID.read\u001b[1;34m()\u001b[0m\n",
      "\u001b[1;32mh5py\\_proxy.pyx\u001b[0m in \u001b[0;36mh5py._proxy.dset_rw\u001b[1;34m()\u001b[0m\n",
      "\u001b[1;32mh5py\\_proxy.pyx\u001b[0m in \u001b[0;36mh5py._proxy.H5PY_H5Dread\u001b[1;34m()\u001b[0m\n",
      "\u001b[1;31mIOError\u001b[0m: Can't read data (File read failed: time = mon feb 19 17:49:27 2018\n, filename = './test7/run21_19feb18_static_parameters\\visdump_data.h5', file descriptor = 5, errno = 22, error message = 'invalid argument', buf = 000000000b1c3888, total read size = 46080, bytes this sub-read = 46080, bytes actually read = 18446744073709551615, offset = 1095456)"
     ]
    }
   ],
   "source": [
    "dat, map = transect_data.transect_data([\"porosity\",], keys=0, directory=mesh_dir, return_map=True)\n",
    "keys, times, dataset = parse_ats.readATS(directory=mesh_dir)"
   ]
  },
  {
   "cell_type": "code",
   "execution_count": 167,
   "metadata": {},
   "outputs": [
    {
     "name": "stdout",
     "output_type": "stream",
     "text": [
      "(3L, 1L, 60L, 96L)\n"
     ]
    }
   ],
   "source": [
    "print dat.shape # (2 + # of varaiables, # of timesteps, NX, NZ)\n",
    "NX = dat.shape[2]\n",
    "NZ = dat.shape[3]\n",
    "x = dat[0,0,:,:]\n",
    "z = dat[1,0,:,:]"
   ]
  },
  {
   "cell_type": "code",
   "execution_count": 157,
   "metadata": {},
   "outputs": [],
   "source": [
    "# plot to see what is going on\n",
    "fig, ax = plt.subplots(1,1)\n",
    "transect_data.plot(dataset['porosity.cell.0']['0'][:][0,:], ax, directory=mesh_dir)\n",
    "plt.show()"
   ]
  },
  {
   "cell_type": "code",
   "execution_count": 158,
   "metadata": {},
   "outputs": [
    {
     "name": "stdout",
     "output_type": "stream",
     "text": [
      "4.0070000000000000e+01\n",
      "[  4.11347  12.14042  21.08414  28.47951  32.17719  34.02603  34.95046\n",
      "  35.51538  35.98615  36.37846  36.70538  36.97782  37.20485  37.39404\n",
      "  37.5517   37.68308  37.79257  37.88381  37.95984  38.0232   38.076    38.12\n",
      "  38.16     38.2      38.24     38.28     38.32     38.36     38.4      38.44\n",
      "  38.48     38.52     38.56     38.6      38.64     38.68     38.72     38.76\n",
      "  38.8      38.84     38.88     38.92     38.96     39.       39.04     39.08\n",
      "  39.11     39.13     39.15     39.17     39.19     39.21     39.23     39.25\n",
      "  39.27     39.29     39.31     39.33     39.35     39.37     39.39     39.41\n",
      "  39.43     39.45     39.47     39.49     39.51     39.53     39.55     39.57\n",
      "  39.59     39.61     39.63     39.65     39.67     39.69     39.71     39.73\n",
      "  39.75     39.77     39.79     39.81     39.83     39.85     39.87     39.89\n",
      "  39.91     39.93     39.95     39.97     39.99     40.01     40.03     40.05\n",
      "  40.07     40.09   ]\n",
      "40.096\n",
      "[  3.59825300e+01   2.79555800e+01   1.90118600e+01   1.16164900e+01\n",
      "   7.91881000e+00   6.06997000e+00   5.14554000e+00   4.58062000e+00\n",
      "   4.10985000e+00   3.71754000e+00   3.39062000e+00   3.11818000e+00\n",
      "   2.89115000e+00   2.70196000e+00   2.54430000e+00   2.41292000e+00\n",
      "   2.30343000e+00   2.21219000e+00   2.13616000e+00   2.07280000e+00\n",
      "   2.02000000e+00   1.97600000e+00   1.93600000e+00   1.89600000e+00\n",
      "   1.85600000e+00   1.81600000e+00   1.77600000e+00   1.73600000e+00\n",
      "   1.69600000e+00   1.65600000e+00   1.61600000e+00   1.57600000e+00\n",
      "   1.53600000e+00   1.49600000e+00   1.45600000e+00   1.41600000e+00\n",
      "   1.37600000e+00   1.33600000e+00   1.29600000e+00   1.25600000e+00\n",
      "   1.21600000e+00   1.17600000e+00   1.13600000e+00   1.09600000e+00\n",
      "   1.05600000e+00   1.01600000e+00   9.86000000e-01   9.66000000e-01\n",
      "   9.46000000e-01   9.26000000e-01   9.06000000e-01   8.86000000e-01\n",
      "   8.66000000e-01   8.46000000e-01   8.26000000e-01   8.06000000e-01\n",
      "   7.86000000e-01   7.66000000e-01   7.46000000e-01   7.26000000e-01\n",
      "   7.06000000e-01   6.86000000e-01   6.66000000e-01   6.46000000e-01\n",
      "   6.26000000e-01   6.06000000e-01   5.86000000e-01   5.66000000e-01\n",
      "   5.46000000e-01   5.26000000e-01   5.06000000e-01   4.86000000e-01\n",
      "   4.66000000e-01   4.46000000e-01   4.26000000e-01   4.06000000e-01\n",
      "   3.86000000e-01   3.66000000e-01   3.46000000e-01   3.26000000e-01\n",
      "   3.06000000e-01   2.86000000e-01   2.66000000e-01   2.46000000e-01\n",
      "   2.26000000e-01   2.06000000e-01   1.86000000e-01   1.66000000e-01\n",
      "   1.46000000e-01   1.26000000e-01   1.06000000e-01   8.60000000e-02\n",
      "   6.60000000e-02   4.60000000e-02   2.60000000e-02   6.00000000e-03]\n"
     ]
    }
   ],
   "source": [
    "# depth coordinate\n",
    "# z of the top surface elevation\n",
    "z_surface = z[:,-1] + 0.006\n",
    "\n",
    "depth = np.expand_dims(z_surface,1) - z\n",
    "print \"%8.16e\"%z[0,-2]\n",
    "print z[0,:]\n",
    "print z_surface[0]\n",
    "print depth[0,:]"
   ]
  },
  {
   "cell_type": "code",
   "execution_count": 159,
   "metadata": {},
   "outputs": [
    {
     "name": "stdout",
     "output_type": "stream",
     "text": [
      "[ 0.46901672  0.46622718  0.46333505  0.45929097  0.45742265  0.4568321\n",
      "  0.4563397   0.45586843  0.45529679  0.45466464  0.45402201  0.45341074\n",
      "  0.45285681  0.4523715   0.45195583  0.45160507  0.45131186  0.45106812\n",
      "  0.45086612  0.45069896  0.45056066  0.45044624  0.45034289  0.45024028\n",
      "  0.45013846  0.45003747  0.45        0.45        0.45        0.45        0.45\n",
      "  0.45        0.45        0.45        0.45        0.45        0.45        0.45\n",
      "  0.45        0.45        0.45        0.45        0.45        0.45        0.45\n",
      "  0.45        0.45        0.45        0.45        0.45        0.45        0.45\n",
      "  0.45        0.45        0.45        0.45        0.45        0.45        0.45\n",
      "  0.45        0.45        0.45        0.45        0.45        0.45        0.45\n",
      "  0.45        0.45        0.45        0.45        0.45        0.45        0.45\n",
      "  0.45        0.45        0.45        0.45        0.45        0.45        0.45\n",
      "  0.45        0.45        0.45        0.45        0.45        0.45        0.65\n",
      "  0.65        0.65        0.65        0.65        0.65        0.65        0.65\n",
      "  0.65        0.65      ]\n"
     ]
    }
   ],
   "source": [
    "print(abs(dat[2,0,50,:]))"
   ]
  },
  {
   "cell_type": "code",
   "execution_count": 177,
   "metadata": {},
   "outputs": [
    {
     "name": "stdout",
     "output_type": "stream",
     "text": [
      "[[ 0.4         0.4         0.4        ...,  0.6652791   0.77607857\n",
      "   1.15304872]\n",
      " [ 0.4         0.4         0.4        ...,  0.6652791   0.77607857\n",
      "   1.15304872]\n",
      " [ 0.4         0.4         0.4        ...,  0.6652791   0.77607857\n",
      "   1.15304872]\n",
      " ..., \n",
      " [ 0.4         0.4         0.4        ...,  0.6652791   0.77607857\n",
      "   1.15304872]\n",
      " [ 0.4         0.4         0.4        ...,  0.6652791   0.77607857\n",
      "   1.15304872]\n",
      " [ 0.4         0.4         0.4        ...,  0.6652791   0.77607857\n",
      "   1.15304872]]\n"
     ]
    }
   ],
   "source": [
    "porosity = np.zeros((NX,NZ),'d')\n",
    "porosity_mapped = np.zeros((NX*NZ,),'d')  # mapped data is a vector\n",
    "permeability = np.zeros((NX,NZ),'d')\n",
    "permeability_mapped = np.zeros((NX*NZ,),'d')  # mapped data is a vector\n",
    "alpha = 1\n",
    "for i in range(NX):\n",
    "    for j in range(NZ):\n",
    "        # ORGANIC REGION\n",
    "        if abs(dat[2,0,i,j] - 0.65) < 1.e-6: \n",
    "            porosity[i,j] = np.multiply(0.2897,np.power(depth[i,j],-0.27))\n",
    "            permeability[i,j] = np.multiply(5.e-14,np.power(depth[i,j],-2.43))\n",
    "        # MINERAL REGION\n",
    "        elif abs(dat[2,0,i,j] - 0.45) < 1.e-6:\n",
    "            porosity[i,j] = 0.20\n",
    "            permeability[i,j] = 1.e-14\n",
    "        # DEEP MINERAL REGION\n",
    "        elif abs(dat[2,0,i,j] - 0.45) > 1.e-6:\n",
    "            porosity[i,j] = 0.40\n",
    "            permeability[i,j] = 1.e-14\n",
    "        else:\n",
    "            raise RuntimeError(\"you screwed up your if statements\")\n",
    "            \n",
    "print(porosity)\n",
    "        \n",
    "# map the data back into unstructured order\n",
    "for i in range(NX):\n",
    "    for j in range(NZ):\n",
    "        porosity_mapped[map[i,j]] = porosity[i,j]\n",
    "        permeability_mapped[map[i,j]] = permeability[i,j]\n",
    "        "
   ]
  },
  {
   "cell_type": "code",
   "execution_count": 179,
   "metadata": {},
   "outputs": [],
   "source": [
    "# write this data into a file for use with ATS\n",
    "#\n",
    "# times : array of times [s] on which the data is defined\n",
    "# ['base_porosity.cell.0'], ['permeability.cell.0'], ....  (key part is .cell.0, but prefer to use our names)\n",
    "# within each data, ['0'], ['1'], ... ['LEN_TIMES-1'] : data groups\n",
    "with h5py.File(\"soil_params_19Feb18.h5\", 'w') as soil_h5:\n",
    "    times = np.array([0.,],'d')\n",
    "    soil_h5.create_dataset('time', data=times)\n",
    "    poro = soil_h5.create_group(\"base_porosity.cell.0\")\n",
    "    poro.create_dataset('0', data=porosity_mapped)\n",
    "    perm = soil_h5.create_group(\"permeability.cell.0\")\n",
    "    perm.create_dataset('0', data=permeability_mapped)\n",
    "\n",
    "    \n",
    "    "
   ]
  },
  {
   "cell_type": "markdown",
   "metadata": {},
   "source": [
    "      <ParameterList name=\"base_porosity\" type=\"ParameterList\">\n",
    "        <Parameter name=\"field evaluator type\" type=\"string\" value=\"independent variable from file\" />\n",
    "        <Parameter name=\"filename\" type=\"string\" value=\"soil_params.h5\" />\n",
    "        <Parameter name=\"variable name\" type=\"string\" value=\"base_porosity\" />\n",
    "        <Parameter name=\"constant in time\" type=\"bool\" value=\"true\" />\n",
    "      </ParameterList>"
   ]
  },
  {
   "cell_type": "code",
   "execution_count": null,
   "metadata": {
    "collapsed": true
   },
   "outputs": [],
   "source": []
  },
  {
   "cell_type": "code",
   "execution_count": null,
   "metadata": {
    "collapsed": true
   },
   "outputs": [],
   "source": []
  }
 ],
 "metadata": {
  "kernelspec": {
   "display_name": "Python 2",
   "language": "python",
   "name": "python2"
  },
  "language_info": {
   "codemirror_mode": {
    "name": "ipython",
    "version": 2
   },
   "file_extension": ".py",
   "mimetype": "text/x-python",
   "name": "python",
   "nbconvert_exporter": "python",
   "pygments_lexer": "ipython2",
   "version": "2.7.14"
  }
 },
 "nbformat": 4,
 "nbformat_minor": 2
}
