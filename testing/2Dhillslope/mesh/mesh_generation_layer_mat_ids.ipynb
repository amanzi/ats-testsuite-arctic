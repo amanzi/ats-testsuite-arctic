{
 "cells": [
  {
   "cell_type": "markdown",
   "metadata": {
    "collapsed": false
   },
   "source": [
    "This script generates hillslope mesh (see mesh_generation.ipynb) with varying top organic layer, where bottom boundary of the organic layer is defined by 'org_layer_bottom_bndry'. "
   ]
  },
  {
   "cell_type": "code",
   "execution_count": 1,
   "metadata": {
    "collapsed": true
   },
   "outputs": [],
   "source": [
    "import sys,os\n",
    "sys.path.append(os.path.join(os.environ['ATS_DEV'],'tools','meshing_ats'))\n",
    "import meshing_ats\n",
    "\n",
    "import numpy as np\n",
    "from matplotlib import pyplot as plt\n",
    "%matplotlib inline"
   ]
  },
  {
   "cell_type": "code",
   "execution_count": 2,
   "metadata": {
    "collapsed": false
   },
   "outputs": [
    {
     "name": "stdout",
     "output_type": "stream",
     "text": [
      "# of x and z elemets:  101 ,  101\n",
      "# of cells:  100\n"
     ]
    },
    {
     "data": {
      "image/png": "[encoded data removed]",
      "text/plain": [
       "<matplotlib.figure.Figure at 0x1132994d0>"
      ]
     },
     "metadata": {},
     "output_type": "display_data"
    }
   ],
   "source": [
    "# 1 km long hillslope, 10% slope\n",
    "x = np.linspace(0,1000,101)\n",
    "z = np.linspace(100,0,101)\n",
    "#print x, z\n",
    "print '# of x and z elemets: ',len(x),', ',len(z)\n",
    "plt.plot(x,z); plt.xlabel('x distance (m)'); plt.ylabel('z elevation (m)')\n",
    "m2 = meshing_ats.Mesh2D.from_Transect(x,z)\n",
    "print '# of cells: ', m2.num_cells()"
   ]
  },
  {
   "cell_type": "code",
   "execution_count": 3,
   "metadata": {
    "collapsed": true
   },
   "outputs": [],
   "source": [
    "#Changing organic layer thickness \n",
    "def org_layer_bottom_bndry(s):\n",
    "    if s<100:\n",
    "        thickness=0.5\n",
    "    elif ((100<=s)&(s<=200)):\n",
    "        thickness=-0.0045*s+0.95\n",
    "    elif ((200<s)&(s<800)):\n",
    "        thickness=0.05\n",
    "    elif ((800<=s)&(s<=900)):\n",
    "        thickness=0.0025*s-1.95\n",
    "    else:\n",
    "        thickness=0.3\n",
    "    return thickness"
   ]
  },
  {
   "cell_type": "code",
   "execution_count": 4,
   "metadata": {
    "collapsed": false
   },
   "outputs": [
    {
     "name": "stdout",
     "output_type": "stream",
     "text": [
      "# of nodes: 202 (202,)\n"
     ]
    },
    {
     "data": {
      "image/png": "[encoded data removed]",
      "text/plain": [
       "<matplotlib.figure.Figure at 0x11330fe10>"
      ]
     },
     "metadata": {},
     "output_type": "display_data"
    }
   ],
   "source": [
    "dzs_org_layer = np.array([org_layer_bottom_bndry(zz) for zz in m2.coords[:,0]])\n",
    "print '# of nodes:', len(dzs_org_layer), np.shape(dzs_org_layer)\n",
    "plt.plot(x, dzs_org_layer[0:101]); plt.xlabel('x distance (m)'); plt.ylabel('org. layer thickness (m)');\n",
    "#print dzs_org_layer[0:101]\n",
    "#print len(dzs_org_layer[0:101])"
   ]
  },
  {
   "cell_type": "code",
   "execution_count": 5,
   "metadata": {
    "collapsed": false
   },
   "outputs": [
    {
     "name": "stdout",
     "output_type": "stream",
     "text": [
      "make sure that the length of all layer data are the same\n",
      "31 31 31\n"
     ]
    }
   ],
   "source": [
    "# preparing layer extrusion data for meshing_ats\n",
    "layer_types = []\n",
    "layer_data = []\n",
    "layer_ncells = []\n",
    "layer_mat_ids = []\n",
    "layer_depth = []\n",
    "\n",
    "dz = .01\n",
    "l_dz=0\n",
    "for i in range(30):\n",
    "    if i<=20:            #organic\n",
    "        dz *= 1.2\n",
    "    elif (20<i)&(i<=26): #mineral\n",
    "        dz *= 1.4\n",
    "    else:                #bedrock\n",
    "        dz *= 1.5          \n",
    "    layer_types.append(\"constant\")\n",
    "    layer_data.append(dz)\n",
    "    layer_ncells.append(1)\n",
    "    l_dz=dz+l_dz\n",
    "    layer_depth.append(l_dz)\n",
    "\n",
    "num_of_layers=len(layer_data)    \n",
    "layer_types.append('constant')\n",
    "layer_data.append(45 - sum(layer_data))\n",
    "layer_ncells.append(1)\n",
    "layer_depth.append(45)\n",
    "\n",
    "print 'make sure that the length of all layer data are the same'\n",
    "print len(layer_data),len(layer_ncells), len(layer_depth)"
   ]
  },
  {
   "cell_type": "code",
   "execution_count": 6,
   "metadata": {
    "collapsed": false
   },
   "outputs": [
    {
     "name": "stdout",
     "output_type": "stream",
     "text": [
      "# of rows, # of cells: (31, 100)\n"
     ]
    }
   ],
   "source": [
    "# allocate 2D matrix with cols=#cells, rows=21\n",
    "# here is 21 is the bottom depth of the mineral layer\n",
    "mat_ids=np.zeros((m2.num_cells(), 21))\n",
    "for i in range(m2.num_cells()):\n",
    "    for j in range(21): # after layer 20 everything is bedrock\n",
    "        if (layer_depth[j]<dzs_org_layer[i]):\n",
    "            mat_ids[i,j]=1001\n",
    "        else:\n",
    "            mat_ids[i,j]=1002\n",
    "            \n",
    "# filling out layer_mat_ids\n",
    "layer_mat_ids = []\n",
    "for j in range(21):\n",
    "    layer_mat_ids.append(mat_ids[:,j])\n",
    "for j in range(21,31):\n",
    "    layer_mat_ids.append(101*np.ones((100,)))\n",
    "\n",
    "print '# of rows, # of cells:', np.shape(layer_mat_ids)"
   ]
  },
  {
   "cell_type": "code",
   "execution_count": 7,
   "metadata": {
    "collapsed": false
   },
   "outputs": [
    {
     "name": "stdout",
     "output_type": "stream",
     "text": [
      "\n",
      "You are using exodus.py v 1.04 (beta-cmake), a python wrapper of some of the exodus II library.\n",
      "Copyright (c) 2013, 2014, 2015, 2016 Sandia Corporation. Under the terms of Contract DE-AC04-94AL85000\n",
      "with Sandia Corporation, the U.S. Government retains certain rights in this software.\n",
      "\n",
      "Opening exodus file: test_organic.exo\n",
      "Closing exodus file: test_organic.exo\n"
     ]
    }
   ],
   "source": [
    "m3 = meshing_ats.Mesh3D.extruded_Mesh2D(m2, layer_types,layer_data, layer_ncells, layer_mat_ids)\n",
    "m3.write_exodus(\"test_organic.exo\")"
   ]
  },
  {
   "cell_type": "code",
   "execution_count": null,
   "metadata": {
    "collapsed": true
   },
   "outputs": [],
   "source": []
  }
 ],
 "metadata": {
  "anaconda-cloud": {},
  "kernelspec": {
   "display_name": "Python [Root]",
   "language": "python",
   "name": "Python [Root]"
  },
  "language_info": {
   "codemirror_mode": {
    "name": "ipython",
    "version": 2
   },
   "file_extension": ".py",
   "mimetype": "text/x-python",
   "name": "python",
   "nbconvert_exporter": "python",
   "pygments_lexer": "ipython2",
   "version": "2.7.12"
  }
 },
 "nbformat": 4,
 "nbformat_minor": 1
}
