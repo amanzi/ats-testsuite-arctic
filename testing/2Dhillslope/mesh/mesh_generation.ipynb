{
 "cells": [
  {
   "cell_type": "code",
   "execution_count": 1,
   "metadata": {
    "collapsed": false
   },
   "outputs": [],
   "source": [
    "import sys,os\n",
    "\n",
    "sys.path.append(os.path.join(os.environ['ATS_SRC_DIR'],'tools','meshing_ats'))\n",
    "import meshing_ats\n",
    "\n",
    "sys.path.append(os.path.join(os.environ['HOME'],'research','python'))\n",
    "import smoothing\n",
    "\n",
    "import numpy as np\n",
    "from matplotlib import pyplot as plt"
   ]
  },
  {
   "cell_type": "code",
   "execution_count": 7,
   "metadata": {
    "collapsed": false
   },
   "outputs": [
    {
     "name": "stdout",
     "output_type": "stream",
     "text": [
      "[    0.    10.    20.    30.    40.    50.    60.    70.    80.    90.\n",
      "   100.   110.   120.   130.   140.   150.   160.   170.   180.   190.\n",
      "   200.   210.   220.   230.   240.   250.   260.   270.   280.   290.\n",
      "   300.   310.   320.   330.   340.   350.   360.   370.   380.   390.\n",
      "   400.   410.   420.   430.   440.   450.   460.   470.   480.   490.\n",
      "   500.   510.   520.   530.   540.   550.   560.   570.   580.   590.\n",
      "   600.   610.   620.   630.   640.   650.   660.   670.   680.   690.\n",
      "   700.   710.   720.   730.   740.   750.   760.   770.   780.   790.\n",
      "   800.   810.   820.   830.   840.   850.   860.   870.   880.   890.\n",
      "   900.   910.   920.   930.   940.   950.   960.   970.   980.   990.\n",
      "  1000.] [ 100.   99.   98.   97.   96.   95.   94.   93.   92.   91.   90.   89.\n",
      "   88.   87.   86.   85.   84.   83.   82.   81.   80.   79.   78.   77.\n",
      "   76.   75.   74.   73.   72.   71.   70.   69.   68.   67.   66.   65.\n",
      "   64.   63.   62.   61.   60.   59.   58.   57.   56.   55.   54.   53.\n",
      "   52.   51.   50.   49.   48.   47.   46.   45.   44.   43.   42.   41.\n",
      "   40.   39.   38.   37.   36.   35.   34.   33.   32.   31.   30.   29.\n",
      "   28.   27.   26.   25.   24.   23.   22.   21.   20.   19.   18.   17.\n",
      "   16.   15.   14.   13.   12.   11.   10.    9.    8.    7.    6.    5.\n",
      "    4.    3.    2.    1.    0.]\n"
     ]
    }
   ],
   "source": [
    "# 1 km long hillslope, 10% slope\n",
    "x = np.linspace(0,1000,101)\n",
    "z = np.linspace(100,0,101)\n",
    "print x, z\n"
   ]
  },
  {
   "cell_type": "code",
   "execution_count": 8,
   "metadata": {
    "collapsed": true
   },
   "outputs": [],
   "source": [
    "m2 = meshing_ats.Mesh2D.from_Transect(x,z)"
   ]
  },
  {
   "cell_type": "code",
   "execution_count": 24,
   "metadata": {
    "collapsed": false
   },
   "outputs": [
    {
     "name": "stdout",
     "output_type": "stream",
     "text": [
      "[[  1.40000000e-01   1.40000000e-01   1.00100000e+03]\n",
      " [  4.00000000e-01   5.40000000e-01   1.00200000e+03]\n",
      " [  2.40000000e-02   5.64000000e-01   1.00200000e+03]\n",
      " [  2.88000000e-02   5.92800000e-01   1.00200000e+03]\n",
      " [  3.45600000e-02   6.27360000e-01   1.00200000e+03]\n",
      " [  4.14720000e-02   6.68832000e-01   1.00200000e+03]\n",
      " [  4.97664000e-02   7.18598400e-01   1.00200000e+03]\n",
      " [  5.97196800e-02   7.78318080e-01   1.00200000e+03]\n",
      " [  7.16636160e-02   8.49981696e-01   1.00200000e+03]\n",
      " [  8.59963392e-02   9.35978035e-01   1.00200000e+03]\n",
      " [  1.03195607e-01   1.03917364e+00   1.00200000e+03]\n",
      " [  1.23834728e-01   1.16300837e+00   1.00200000e+03]\n",
      " [  1.48601674e-01   1.31161004e+00   1.00200000e+03]\n",
      " [  1.78322009e-01   1.48993205e+00   1.00200000e+03]\n",
      " [  2.13986411e-01   1.70391846e+00   1.00200000e+03]\n",
      " [  2.56783693e-01   1.96070216e+00   1.00200000e+03]\n",
      " [  3.08140431e-01   2.26884259e+00   1.00200000e+03]\n",
      " [  6.16280863e-01   2.88512345e+00   1.01000000e+02]\n",
      " [  1.23256173e+00   4.11768518e+00   1.01000000e+02]\n",
      " [  2.46512345e+00   6.58280863e+00   1.01000000e+02]\n",
      " [  4.93024690e+00   1.15130555e+01   1.01000000e+02]\n",
      " [  9.86049381e+00   2.13735493e+01   1.01000000e+02]\n",
      " [  2.36264507e+01   4.50000000e+01   1.01000000e+02]]\n",
      "[1001, 1002, 1002, 1002, 1002, 1002, 1002, 1002, 1002, 1002, 1002, 1002, 1002, 1002, 1002, 1002, 1002, 101, 101, 101, 101, 101, 101]\n",
      "49\n",
      "\n",
      "You are using exodus.py v 1.04 (beta-cmake), a python wrapper of some of the exodus II library.\n",
      "Copyright (c) 2013, 2014, 2015, 2016 Sandia Corporation. Under the terms of Contract DE-AC04-94AL85000\n",
      "with Sandia Corporation, the U.S. Government retains certain rights in this software.\n",
      "\n",
      "Opening exodus file: hillslope.exo\n",
      "Closing exodus file: hillslope.exo\n"
     ]
    }
   ],
   "source": [
    "# layer extrusion\n",
    "layer_types = []\n",
    "layer_data = []\n",
    "layer_ncells = []\n",
    "layer_mat_ids = []\n",
    "\n",
    "layer_types.append(\"constant\")\n",
    "layer_data.append(0.14)\n",
    "layer_ncells.append(7)\n",
    "layer_mat_ids.append(1001)\n",
    "\n",
    "layer_types.append('constant')\n",
    "layer_data.append(0.4)\n",
    "layer_ncells.append(20)\n",
    "layer_mat_ids.append(1002)\n",
    "\n",
    "dz = .02\n",
    "for i in range(15):\n",
    "    dz *= 1.2\n",
    "    layer_types.append(\"constant\")\n",
    "    layer_data.append(dz)\n",
    "    layer_ncells.append(1)\n",
    "    layer_mat_ids.append(1002)\n",
    "        \n",
    "for i in range(5):\n",
    "    dz *= 2\n",
    "    layer_types.append(\"constant\")\n",
    "    layer_data.append(dz)\n",
    "    layer_ncells.append(1)\n",
    "    layer_mat_ids.append(101)\n",
    "    \n",
    "layer_types.append('constant')\n",
    "layer_data.append(45 - sum(layer_data))\n",
    "layer_ncells.append(2)\n",
    "layer_mat_ids.append(101)\n",
    "\n",
    "print np.array([layer_data, np.cumsum(np.array(layer_data)), layer_mat_ids]).transpose()\n",
    "print layer_mat_ids\n",
    "print sum(layer_ncells)\n",
    "\n",
    "m3 = meshing_ats.Mesh3D.extruded_Mesh2D(m2, layer_types, \n",
    "                                       layer_data, \n",
    "                                      layer_ncells, \n",
    "                                     layer_mat_ids)\n",
    "m3.write_exodus(\"hillslope.exo\")\n"
   ]
  },
  {
   "cell_type": "code",
   "execution_count": 25,
   "metadata": {
    "collapsed": false
   },
   "outputs": [
    {
     "name": "stdout",
     "output_type": "stream",
     "text": [
      "\n",
      "You are using exodus.py v 1.04 (beta-cmake), a python wrapper of some of the exodus II library.\n",
      "Copyright (c) 2013, 2014, 2015, 2016 Sandia Corporation. Under the terms of Contract DE-AC04-94AL85000\n",
      "with Sandia Corporation, the U.S. Government retains certain rights in this software.\n",
      "\n",
      "Opening exodus file: hillslope_column.exo\n",
      "Closing exodus file: hillslope_column.exo\n"
     ]
    }
   ],
   "source": [
    "x = np.array([0,1])\n",
    "z = np.array([0,0])\n",
    "m2 = meshing_ats.Mesh2D.from_Transect(x,z)\n",
    "\n",
    "m3 = meshing_ats.Mesh3D.extruded_Mesh2D(m2, layer_types, \n",
    "                                       layer_data, \n",
    "                                      layer_ncells, \n",
    "                                     layer_mat_ids)\n",
    "m3.write_exodus(\"hillslope_column.exo\")"
   ]
  }
 ],
 "metadata": {
  "anaconda-cloud": {},
  "kernelspec": {
   "display_name": "Python [Root]",
   "language": "python",
   "name": "Python [Root]"
  },
  "language_info": {
   "codemirror_mode": {
    "name": "ipython",
    "version": 2
   },
   "file_extension": ".py",
   "mimetype": "text/x-python",
   "name": "python",
   "nbconvert_exporter": "python",
   "pygments_lexer": "ipython2",
   "version": "2.7.12"
  }
 },
 "nbformat": 4,
 "nbformat_minor": 1
}
