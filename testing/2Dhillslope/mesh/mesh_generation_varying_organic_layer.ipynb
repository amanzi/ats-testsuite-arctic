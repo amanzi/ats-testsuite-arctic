{
 "cells": [
  {
   "cell_type": "markdown",
   "metadata": {
    "collapsed": false
   },
   "source": [
    "This script uses mesh_generation ipython script to generate mesh with varying upper layer. The layer is varying according to rules assigned in 'dz_layer1' function. For 1Dcolumn I am using the thickest organic layer which is 50cm. "
   ]
  },
  {
   "cell_type": "code",
   "execution_count": 1,
   "metadata": {
    "collapsed": true
   },
   "outputs": [],
   "source": [
    "import sys,os\n",
    "\n",
    "sys.path.append(os.path.join(os.environ['ATS_DEV'],'tools','meshing_ats'))\n",
    "import meshing_ats\n",
    "\n",
    "import numpy as np\n",
    "from matplotlib import pyplot as plt\n",
    "%matplotlib inline"
   ]
  },
  {
   "cell_type": "code",
   "execution_count": 2,
   "metadata": {
    "collapsed": false
   },
   "outputs": [
    {
     "name": "stdout",
     "output_type": "stream",
     "text": [
      "[    0.    10.    20.    30.    40.    50.    60.    70.    80.    90.\n",
      "   100.   110.   120.   130.   140.   150.   160.   170.   180.   190.\n",
      "   200.   210.   220.   230.   240.   250.   260.   270.   280.   290.\n",
      "   300.   310.   320.   330.   340.   350.   360.   370.   380.   390.\n",
      "   400.   410.   420.   430.   440.   450.   460.   470.   480.   490.\n",
      "   500.   510.   520.   530.   540.   550.   560.   570.   580.   590.\n",
      "   600.   610.   620.   630.   640.   650.   660.   670.   680.   690.\n",
      "   700.   710.   720.   730.   740.   750.   760.   770.   780.   790.\n",
      "   800.   810.   820.   830.   840.   850.   860.   870.   880.   890.\n",
      "   900.   910.   920.   930.   940.   950.   960.   970.   980.   990.\n",
      "  1000.] [ 100.   99.   98.   97.   96.   95.   94.   93.   92.   91.   90.   89.\n",
      "   88.   87.   86.   85.   84.   83.   82.   81.   80.   79.   78.   77.\n",
      "   76.   75.   74.   73.   72.   71.   70.   69.   68.   67.   66.   65.\n",
      "   64.   63.   62.   61.   60.   59.   58.   57.   56.   55.   54.   53.\n",
      "   52.   51.   50.   49.   48.   47.   46.   45.   44.   43.   42.   41.\n",
      "   40.   39.   38.   37.   36.   35.   34.   33.   32.   31.   30.   29.\n",
      "   28.   27.   26.   25.   24.   23.   22.   21.   20.   19.   18.   17.\n",
      "   16.   15.   14.   13.   12.   11.   10.    9.    8.    7.    6.    5.\n",
      "    4.    3.    2.    1.    0.]\n",
      "101 101\n"
     ]
    }
   ],
   "source": [
    "# 1 km long hillslope, 10% slope\n",
    "x = np.linspace(0,1000,101)\n",
    "z = np.linspace(100,0,101)\n",
    "print x, z\n",
    "print len(x),len(z)\n",
    "m2 = meshing_ats.Mesh2D.from_Transect(x,z)"
   ]
  },
  {
   "cell_type": "code",
   "execution_count": 3,
   "metadata": {
    "collapsed": true
   },
   "outputs": [],
   "source": [
    "#Changing organic layer thickness \n",
    "def dz_layer1(s):\n",
    "    if s<100:\n",
    "        thickness=0.5\n",
    "    elif ((100<=s)&(s<=200)):\n",
    "        thickness=-0.0045*s+0.95\n",
    "    elif ((200<s)&(s<800)):\n",
    "        thickness=0.05\n",
    "    elif ((800<=s)&(s<=900)):\n",
    "        thickness=0.0025*s-1.95\n",
    "    else:\n",
    "        thickness=0.3\n",
    "    return thickness"
   ]
  },
  {
   "cell_type": "code",
   "execution_count": 4,
   "metadata": {
    "collapsed": false
   },
   "outputs": [
    {
     "name": "stdout",
     "output_type": "stream",
     "text": [
      "202 (202,)\n",
      "[ 0.5    0.5    0.5    0.5    0.5    0.5    0.5    0.5    0.5    0.5    0.5\n",
      "  0.455  0.41   0.365  0.32   0.275  0.23   0.185  0.14   0.095  0.05   0.05\n",
      "  0.05   0.05   0.05   0.05   0.05   0.05   0.05   0.05   0.05   0.05   0.05\n",
      "  0.05   0.05   0.05   0.05   0.05   0.05   0.05   0.05   0.05   0.05   0.05\n",
      "  0.05   0.05   0.05   0.05   0.05   0.05   0.05   0.05   0.05   0.05   0.05\n",
      "  0.05   0.05   0.05   0.05   0.05   0.05   0.05   0.05   0.05   0.05   0.05\n",
      "  0.05   0.05   0.05   0.05   0.05   0.05   0.05   0.05   0.05   0.05   0.05\n",
      "  0.05   0.05   0.05   0.05   0.075  0.1    0.125  0.15   0.175  0.2    0.225\n",
      "  0.25   0.275  0.3    0.3    0.3    0.3    0.3    0.3    0.3    0.3    0.3\n",
      "  0.3    0.3  ]\n"
     ]
    },
    {
     "data": {
      "image/png": "[encoded data removed]",
      "text/plain": [
       "<matplotlib.figure.Figure at 0x113ac3490>"
      ]
     },
     "metadata": {},
     "output_type": "display_data"
    }
   ],
   "source": [
    "dzs_org_layer = np.array([dz_layer1(x) for x in m2.coords[:,0]])\n",
    "print len(dzs_org_layer), np.shape(dzs_org_layer)\n",
    "plt.plot( dzs_org_layer[0:101]);\n",
    "print dzs_org_layer[0:101]"
   ]
  },
  {
   "cell_type": "code",
   "execution_count": 5,
   "metadata": {
    "collapsed": false
   },
   "outputs": [
    {
     "name": "stdout",
     "output_type": "stream",
     "text": [
      "\n",
      "You are using exodus.py v 1.04 (beta-cmake), a python wrapper of some of the exodus II library.\n",
      "Copyright (c) 2013, 2014, 2015, 2016 Sandia Corporation. Under the terms of Contract DE-AC04-94AL85000\n",
      "with Sandia Corporation, the U.S. Government retains certain rights in this software.\n",
      "\n",
      "Opening exodus file: hillslope_organic.exo\n",
      "Closing exodus file: hillslope_organic.exo\n"
     ]
    }
   ],
   "source": [
    "# layer extrusion for 2D\n",
    "layer_types = []\n",
    "layer_data = []\n",
    "layer_ncells = []\n",
    "layer_mat_ids = []\n",
    "\n",
    "layer_types.append('node') #organic\n",
    "layer_data.append(dzs_org_layer)\n",
    "layer_ncells.append(7)\n",
    "layer_mat_ids.append(1001)\n",
    "\n",
    "layer_types.append('constant') #mineral\n",
    "layer_data.append(0.4)\n",
    "layer_ncells.append(20)\n",
    "layer_mat_ids.append(1002)\n",
    "\n",
    "dz = .02\n",
    "for i in range(15):\n",
    "    dz *= 1.2\n",
    "    layer_types.append(\"constant\")\n",
    "    layer_data.append(dz)\n",
    "    layer_ncells.append(1)\n",
    "    layer_mat_ids.append(1002)\n",
    "        \n",
    "for i in range(5):\n",
    "    dz *= 2\n",
    "    layer_types.append(\"constant\")\n",
    "    layer_data.append(dz)\n",
    "    layer_ncells.append(1)\n",
    "    layer_mat_ids.append(101)\n",
    "    \n",
    "layer_types.append('node')\n",
    "layer_data.append(45 - sum(layer_data))\n",
    "layer_ncells.append(2)\n",
    "layer_mat_ids.append(101)\n",
    "\n",
    "#print layer_data\n",
    "#print np.array([layer_data, np.cumsum(np.array(layer_data)), layer_mat_ids]).transpose()\n",
    "#print layer_mat_ids\n",
    "#print len(layer_mat_ids)\n",
    "#print sum(layer_ncells)\n",
    "\n",
    "m3 = meshing_ats.Mesh3D.extruded_Mesh2D(m2, layer_types,layer_data, layer_ncells, layer_mat_ids)\n",
    "m3.write_exodus(\"hillslope_organic.exo\")\n"
   ]
  },
  {
   "cell_type": "code",
   "execution_count": 6,
   "metadata": {
    "collapsed": false
   },
   "outputs": [
    {
     "name": "stdout",
     "output_type": "stream",
     "text": [
      "\n",
      "You are using exodus.py v 1.04 (beta-cmake), a python wrapper of some of the exodus II library.\n",
      "Copyright (c) 2013, 2014, 2015, 2016 Sandia Corporation. Under the terms of Contract DE-AC04-94AL85000\n",
      "with Sandia Corporation, the U.S. Government retains certain rights in this software.\n",
      "\n",
      "Opening exodus file: hillslope_organic_column.exo\n",
      "Closing exodus file: hillslope_organic_column.exo\n"
     ]
    }
   ],
   "source": [
    "x = np.array([0,1])\n",
    "z = np.array([0,0])\n",
    "\n",
    "# layer extrusion for 1D\n",
    "layer_types = []\n",
    "layer_data = []\n",
    "layer_ncells = []\n",
    "layer_mat_ids = []\n",
    "\n",
    "layer_types.append('constant') #organic\n",
    "layer_data.append(0.5)\n",
    "layer_ncells.append(7)\n",
    "layer_mat_ids.append(1001)\n",
    "\n",
    "layer_types.append('constant') #mineral\n",
    "layer_data.append(0.4)\n",
    "layer_ncells.append(20)\n",
    "layer_mat_ids.append(1002)\n",
    "\n",
    "dz = .02\n",
    "for i in range(15):\n",
    "    dz *= 1.2\n",
    "    layer_types.append(\"constant\")\n",
    "    layer_data.append(dz)\n",
    "    layer_ncells.append(1)\n",
    "    layer_mat_ids.append(1002)\n",
    "        \n",
    "for i in range(5):\n",
    "    dz *= 2\n",
    "    layer_types.append(\"constant\")\n",
    "    layer_data.append(dz)\n",
    "    layer_ncells.append(1)\n",
    "    layer_mat_ids.append(101)\n",
    "    \n",
    "layer_types.append('constant')\n",
    "layer_data.append(45 - sum(layer_data))\n",
    "layer_ncells.append(2)\n",
    "layer_mat_ids.append(101)\n",
    "m2 = meshing_ats.Mesh2D.from_Transect(x,z)\n",
    "\n",
    "m3 = meshing_ats.Mesh3D.extruded_Mesh2D(m2, layer_types, \n",
    "                                       layer_data, \n",
    "                                      layer_ncells, \n",
    "                                     layer_mat_ids)\n",
    "m3.write_exodus(\"hillslope_organic_column.exo\")"
   ]
  },
  {
   "cell_type": "code",
   "execution_count": 6,
   "metadata": {
    "collapsed": true
   },
   "outputs": [],
   "source": [
    "meshing_ats.Mesh3D.extruded_Mesh2D?\n"
   ]
  },
  {
   "cell_type": "code",
   "execution_count": null,
   "metadata": {
    "collapsed": true
   },
   "outputs": [],
   "source": []
  }
 ],
 "metadata": {
  "anaconda-cloud": {},
  "kernelspec": {
   "display_name": "Python [Root]",
   "language": "python",
   "name": "Python [Root]"
  },
  "language_info": {
   "codemirror_mode": {
    "name": "ipython",
    "version": 2
   },
   "file_extension": ".py",
   "mimetype": "text/x-python",
   "name": "python",
   "nbconvert_exporter": "python",
   "pygments_lexer": "ipython2",
   "version": "2.7.12"
  }
 },
 "nbformat": 4,
 "nbformat_minor": 1
}
