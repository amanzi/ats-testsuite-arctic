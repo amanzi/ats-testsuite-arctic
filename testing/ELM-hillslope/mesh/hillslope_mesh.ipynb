{
 "cells": [
  {
   "cell_type": "markdown",
   "metadata": {
    "collapsed": false
   },
   "source": [
    "### Hillslope mesh generation script\n",
    "This script generates hillslope mesh (see mesh_generation.ipynb) with varying top organic layer, where bottom boundary of the organic layer is defined by 'org_layer_bottom_bndry'. \n",
    "\n",
    "EJ 02/22/19 "
   ]
  },
  {
   "cell_type": "code",
   "execution_count": 1,
   "metadata": {
    "collapsed": false
   },
   "outputs": [],
   "source": [
    "import sys,os\n",
    "\n",
    "sys.path.append(os.path.join(os.environ['ATS_DEV'],'tools','meshing_ats'))\n",
    "import meshing_ats\n",
    "\n",
    "import numpy as np\n",
    "from matplotlib import pyplot as plt\n",
    "%matplotlib inline"
   ]
  },
  {
   "cell_type": "code",
   "execution_count": 2,
   "metadata": {
    "collapsed": true
   },
   "outputs": [],
   "source": [
    "class extrude_layer:\n",
    "    \"\"\"Class properties \"\"\"\n",
    "    layer_types = []\n",
    "    layer_data = []\n",
    "    layer_ncells = []\n",
    "    layer_mat_ids = []\n",
    "    layer_depth = []\n",
    "\n",
    "    def extrude(self):\n",
    "        self.layer_types = []\n",
    "        self.layer_data = []\n",
    "        self.layer_ncells = []\n",
    "        self.layer_mat_ids = []\n",
    "        self.layer_depth = []\n",
    "        dz = .01\n",
    "        l_dz=0\n",
    "        i=0 \n",
    "        while (l_dz<2): # for depth less than 2m\n",
    "            if i<=20:            #organic\n",
    "                dz *= 1.2\n",
    "            elif (20<i)&(i<=26): #mineral\n",
    "                dz *= 1.4\n",
    "            else:                #mineral\n",
    "                dz *= 1.5          \n",
    "            self.layer_types.append(\"constant\")\n",
    "            self.layer_data.append(dz)\n",
    "            self.layer_ncells.append(1)\n",
    "            l_dz=dz+l_dz\n",
    "            self.layer_depth.append(l_dz)\n",
    "            i += 1\n",
    "\n",
    "        while (l_dz<42): # stop when depth gets deeper than 42m\n",
    "            dz = 2    \n",
    "            self.layer_types.append(\"constant\")\n",
    "            self.layer_data.append(dz)\n",
    "            self.layer_ncells.append(1)\n",
    "            l_dz=dz+l_dz\n",
    "            self.layer_depth.append(l_dz)\n",
    "\n",
    "        num_of_layers=len(self.layer_data)    \n",
    "        self.layer_types.append('constant')\n",
    "        self.layer_data.append(44 - sum(self.layer_data))\n",
    "        self.layer_ncells.append(1)\n",
    "        self.layer_depth.append(44)\n",
    "        \n",
    "        return"
   ]
  },
  {
   "cell_type": "code",
   "execution_count": 3,
   "metadata": {
    "collapsed": false
   },
   "outputs": [
    {
     "name": "stdout",
     "output_type": "stream",
     "text": [
      "# of x and z elemets:  101 ,  101\n",
      "# of cells:  100\n"
     ]
    },
    {
     "data": {
      "image/png": "[encoded data removed]",
      "text/plain": [
       "<Figure size 600x400 with 1 Axes>"
      ]
     },
     "metadata": {},
     "output_type": "display_data"
    }
   ],
   "source": [
    "# 1 km long hillslope, 10% slope\n",
    "x = np.linspace(0,1000,101)\n",
    "z = np.linspace(100,0,101)\n",
    "#print x, z\n",
    "print '# of x and z elemets: ',len(x),', ',len(z)\n",
    "plt.plot(x,z); plt.xlabel('x distance (m)'); plt.ylabel('z elevation (m)')\n",
    "m2 = meshing_ats.Mesh2D.from_Transect(x,z)\n",
    "print '# of cells: ', m2.num_cells()"
   ]
  },
  {
   "cell_type": "markdown",
   "metadata": {},
   "source": [
    "Below there are 3 similar functions which return organic layer thickness parameter. For 2 functions produce varying organic layer, the 3 one is a constant layer"
   ]
  },
  {
   "cell_type": "code",
   "execution_count": null,
   "metadata": {
    "collapsed": true
   },
   "outputs": [],
   "source": [
    "#Changing organic layer thickness: original (max depth 50 cm)\n",
    "def org_layer_bottom_bndry(s):\n",
    "    if s<100:\n",
    "        thickness=0.5\n",
    "    elif ((100<=s)&(s<=200)):\n",
    "        thickness=-0.0045*s+0.95\n",
    "    elif ((200<s)&(s<800)):\n",
    "        thickness=0.05\n",
    "    elif ((800<=s)&(s<=900)):\n",
    "        thickness=0.0025*s-1.95\n",
    "    else:\n",
    "        thickness=0.3\n",
    "    return thickness"
   ]
  },
  {
   "cell_type": "code",
   "execution_count": null,
   "metadata": {
    "collapsed": true
   },
   "outputs": [],
   "source": [
    "#Changing organic layer thickness: deep (max depth 1m)\n",
    "def org_layer_bottom_bndry(s):\n",
    "    if s<100:\n",
    "        thickness=1\n",
    "    elif ((100<=s)&(s<=200)):\n",
    "        thickness=-0.0095*s+1.95\n",
    "    elif ((200<s)&(s<800)):\n",
    "        thickness=0.05\n",
    "    elif ((800<=s)&(s<=900)):\n",
    "        thickness=0.0055*s-4.35\n",
    "    else:\n",
    "        thickness=0.6\n",
    "    return thickness"
   ]
  },
  {
   "cell_type": "code",
   "execution_count": 4,
   "metadata": {
    "collapsed": true
   },
   "outputs": [],
   "source": [
    "#Const organic layer thickness: const  \n",
    "def org_layer_bottom_bndry(s):\n",
    "    return 0.10"
   ]
  },
  {
   "cell_type": "code",
   "execution_count": 5,
   "metadata": {
    "collapsed": false
   },
   "outputs": [
    {
     "name": "stdout",
     "output_type": "stream",
     "text": [
      "# of nodes: 202 (202,)\n"
     ]
    },
    {
     "data": {
      "image/png": "[encoded data removed]",
      "text/plain": [
       "<Figure size 600x400 with 1 Axes>"
      ]
     },
     "metadata": {},
     "output_type": "display_data"
    }
   ],
   "source": [
    "dzs_org_layer = np.array([org_layer_bottom_bndry(zz) for zz in m2.coords[:,0]])\n",
    "print '# of nodes:', len(dzs_org_layer), np.shape(dzs_org_layer)\n",
    "plt.plot(x, dzs_org_layer[0:101]); plt.xlabel('x distance (m)'); plt.ylabel('org. layer thickness (m)');\n",
    "#print dzs_org_layer[0:101]\n",
    "#print len(dzs_org_layer[0:101])"
   ]
  },
  {
   "cell_type": "markdown",
   "metadata": {},
   "source": [
    "### Make subsurface layers [layer_depth].\n",
    "\n",
    "Two exmaples below show cases with different vertical spacing. Finer depth resolution might matter when dealing with deep subsurface groundwater flow."
   ]
  },
  {
   "cell_type": "code",
   "execution_count": null,
   "metadata": {
    "collapsed": false
   },
   "outputs": [],
   "source": [
    "# preparing layer extrusion data for meshing_ats\n",
    "layer_types = []\n",
    "layer_data = []\n",
    "layer_ncells = []\n",
    "layer_mat_ids = []\n",
    "layer_depth = []\n",
    "\n",
    "dz = .01\n",
    "l_dz=0\n",
    "for i in range(30):\n",
    "    if i<=20:            #organic\n",
    "        dz *= 1.2\n",
    "    elif (20<i)&(i<=26): #mineral\n",
    "        dz *= 1.4\n",
    "    else:                #bedrock\n",
    "        dz *= 1.5          \n",
    "    layer_types.append(\"constant\")\n",
    "    layer_data.append(dz)\n",
    "    layer_ncells.append(1)\n",
    "    l_dz=dz+l_dz\n",
    "    layer_depth.append(l_dz)\n",
    "\n",
    "num_of_layers=len(layer_data)    \n",
    "layer_types.append('constant')\n",
    "layer_data.append(45 - sum(layer_data))\n",
    "layer_ncells.append(1)\n",
    "layer_depth.append(45)\n",
    "\n",
    "print 'make sure that the length of all layer data are the same'\n",
    "print len(layer_data),len(layer_ncells), len(layer_depth)\n",
    "print num_of_layers\n",
    "print layer_depth\n",
    "plt.plot(layer_depth,'s'); plt.xlabel('# cells'); plt.ylabel('depth');"
   ]
  },
  {
   "cell_type": "code",
   "execution_count": 6,
   "metadata": {
    "collapsed": false
   },
   "outputs": [
    {
     "name": "stdout",
     "output_type": "stream",
     "text": [
      "make sure that the length of all layer data are the same\n",
      "41 41 41\n",
      "[0.012, 0.0264, 0.04368, 0.064416, 0.0892992, 0.11915904, 0.154990848, 0.19798901759999998, 0.24958682111999997, 0.31150418534399993, 0.3858050224127999, 0.4749660268953599, 0.5819592322744318, 0.7103510787293181, 0.8644212944751818, 1.049305553370218, 1.2711666640442616, 1.537399996853114, 1.8568799962237368, 2.240255995468484, 4.240255995468484, 6.240255995468484, 8.240255995468484, 10.240255995468484, 12.240255995468484, 14.240255995468484, 16.240255995468484, 18.240255995468484, 20.240255995468484, 22.240255995468484, 24.240255995468484, 26.240255995468484, 28.240255995468484, 30.240255995468484, 32.24025599546849, 34.24025599546849, 36.24025599546849, 38.24025599546849, 40.24025599546849, 42.24025599546849, 44]\n"
     ]
    },
    {
     "data": {
      "image/png": "[encoded data removed]",
      "text/plain": [
       "<Figure size 600x400 with 1 Axes>"
      ]
     },
     "metadata": {},
     "output_type": "display_data"
    }
   ],
   "source": [
    "# preparing layer extrusion data for meshing_ats\n",
    "ex=extrude_layer()\n",
    "ex.extrude()\n",
    "\n",
    "print 'make sure that the length of all layer data are the same'\n",
    "print len(ex.layer_data),len(ex.layer_ncells), len(ex.layer_depth)\n",
    "print ex.layer_depth\n",
    "plt.plot(ex.layer_depth,'s'); plt.xlabel('# cells'); plt.ylabel('depth');"
   ]
  },
  {
   "cell_type": "markdown",
   "metadata": {},
   "source": [
    "### Marking cells by numbers correspoding to the subsurfae material. (peat/mineral/rock)"
   ]
  },
  {
   "cell_type": "code",
   "execution_count": 7,
   "metadata": {
    "collapsed": false
   },
   "outputs": [
    {
     "name": "stdout",
     "output_type": "stream",
     "text": [
      "# of rows, # of cells: (41, 100)\n"
     ]
    }
   ],
   "source": [
    "# allocate 2D matrix with cols=#cells, rows=21\n",
    "# here is 21 is the bottom depth of the mineral layer\n",
    "nlayer=len(ex.layer_data)\n",
    "mat_ids=np.zeros((m2.num_cells(), 21))\n",
    "for i in range(m2.num_cells()):\n",
    "    for j in range(21): # after layer 20 everything is bedrock\n",
    "        if (ex.layer_depth[j]<dzs_org_layer[i]):\n",
    "        #if (ex.layer_depth[j]<0.5):  # constant OLT=50cm\n",
    "            mat_ids[i,j]=1001\n",
    "        else:\n",
    "            mat_ids[i,j]=1002\n",
    "            \n",
    "# filling out layer_mat_ids\n",
    "layer_mat_ids = []\n",
    "for j in range(21):\n",
    "    ex.layer_mat_ids.append(mat_ids[:,j])\n",
    "for j in range(21,nlayer):\n",
    "    ex.layer_mat_ids.append(101*np.ones((100,)))\n",
    "\n",
    "print '# of rows, # of cells:', np.shape(ex.layer_mat_ids)"
   ]
  },
  {
   "cell_type": "markdown",
   "metadata": {},
   "source": [
    "### Make 3D exodus mesh"
   ]
  },
  {
   "cell_type": "code",
   "execution_count": 9,
   "metadata": {
    "collapsed": false
   },
   "outputs": [
    {
     "name": "stdout",
     "output_type": "stream",
     "text": [
      "\n",
      "You are using exodus.py v 1.04 (beta-cmake), a python wrapper of some of the exodus II library.\n",
      "Copyright (c) 2013, 2014, 2015, 2016 Sandia Corporation. Under the terms of Contract DE-AC04-94AL85000\n",
      "with Sandia Corporation, the U.S. Government retains certain rights in this software.\n",
      "\n",
      "Opening exodus file: hillslope_2D_1.exo\n",
      "Closing exodus file: hillslope_2D_1.exo\n"
     ]
    }
   ],
   "source": [
    "m3 = meshing_ats.Mesh3D.extruded_Mesh2D(m2, ex.layer_types,ex.layer_data, ex.layer_ncells, ex.layer_mat_ids)\n",
    "m3.write_exodus(\"hillslope_2D_1.exo\")"
   ]
  },
  {
   "cell_type": "markdown",
   "metadata": {},
   "source": [
    "### Example for 1D column mesh column"
   ]
  },
  {
   "cell_type": "code",
   "execution_count": 3,
   "metadata": {
    "collapsed": false
   },
   "outputs": [
    {
     "name": "stdout",
     "output_type": "stream",
     "text": [
      "make sure that the length of all layer data are the same\n",
      "41 41 41\n",
      "layer_mat_ids\n",
      "41\n",
      "\n",
      "You are using exodus.py v 1.04 (beta-cmake), a python wrapper of some of the exodus II library.\n",
      "Copyright (c) 2013, 2014, 2015, 2016 Sandia Corporation. Under the terms of Contract DE-AC04-94AL85000\n",
      "with Sandia Corporation, the U.S. Government retains certain rights in this software.\n",
      "\n",
      "Opening exodus file: hillslope_column_10cm.exo\n",
      "Closing exodus file: hillslope_column_10cm.exo\n"
     ]
    }
   ],
   "source": [
    "x = np.array([0,1])\n",
    "z = np.array([0,0])\n",
    "\n",
    "ex=extrude_layer()\n",
    "ex.extrude()\n",
    "\n",
    "print 'make sure that the length of all layer data are the same'\n",
    "print len(ex.layer_data),len(ex.layer_ncells), len(ex.layer_depth)\n",
    "\n",
    "nlayer=len(ex.layer_data)\n",
    "mat_ids=np.zeros(21)\n",
    "    \n",
    "for j in range(21): # after layer 20 everything is bedrock\n",
    "    if (ex.layer_depth[j]<0.10):  # constant OLT=50cm\n",
    "        mat_ids[j]=1001\n",
    "    else:\n",
    "        mat_ids[j]=1002        \n",
    "            \n",
    "# filling out layer_mat_ids\n",
    "for j in range(21):\n",
    "    ex.layer_mat_ids.append(mat_ids[j])\n",
    "for j in range(21,nlayer):\n",
    "    ex.layer_mat_ids.append(101)\n",
    "\n",
    "print 'layer_mat_ids'\n",
    "print len(ex.layer_mat_ids)\n",
    "\n",
    "m2 = meshing_ats.Mesh2D.from_Transect(x,z)\n",
    "\n",
    "m3 = meshing_ats.Mesh3D.extruded_Mesh2D(m2, ex.layer_types, ex.layer_data, ex.layer_ncells, ex.layer_mat_ids)\n",
    "m3.write_exodus(\"hillslope_column_10cm.exo\")"
   ]
  },
  {
   "cell_type": "code",
   "execution_count": null,
   "metadata": {
    "collapsed": true
   },
   "outputs": [],
   "source": []
  }
 ],
 "metadata": {
  "anaconda-cloud": {},
  "kernelspec": {
   "display_name": "Python [Root]",
   "language": "python",
   "name": "Python [Root]"
  },
  "language_info": {
   "codemirror_mode": {
    "name": "ipython",
    "version": 2
   },
   "file_extension": ".py",
   "mimetype": "text/x-python",
   "name": "python",
   "nbconvert_exporter": "python",
   "pygments_lexer": "ipython2",
   "version": "2.7.12"
  }
 },
 "nbformat": 4,
 "nbformat_minor": 1
}
